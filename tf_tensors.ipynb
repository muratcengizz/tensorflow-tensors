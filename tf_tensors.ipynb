{
 "cells": [
  {
   "cell_type": "code",
   "execution_count": 1,
   "id": "d7acb000-5667-4999-a0b9-7f4ddc63efc6",
   "metadata": {},
   "outputs": [],
   "source": [
    "import tensorflow as tf\n",
    "import numpy as np"
   ]
  },
  {
   "cell_type": "code",
   "execution_count": 2,
   "id": "604dec51-21ac-4435-bad6-b2c1629b9667",
   "metadata": {},
   "outputs": [
    {
     "data": {
      "text/plain": [
       "<tf.Tensor: shape=(3,), dtype=float32, numpy=array([1., 2., 3.], dtype=float32)>"
      ]
     },
     "execution_count": 2,
     "metadata": {},
     "output_type": "execute_result"
    }
   ],
   "source": [
    "tensor1 = tf.constant(value=[1, 2, 3], dtype=tf.float32)\n",
    "tensor1"
   ]
  },
  {
   "cell_type": "code",
   "execution_count": 3,
   "id": "196a55ca-b42d-40ad-bd07-ac6562a01928",
   "metadata": {},
   "outputs": [
    {
     "data": {
      "text/plain": [
       "<tf.Tensor: shape=(3, 2), dtype=int32, numpy=\n",
       "array([[1, 1],\n",
       "       [1, 1],\n",
       "       [1, 1]])>"
      ]
     },
     "execution_count": 3,
     "metadata": {},
     "output_type": "execute_result"
    }
   ],
   "source": [
    "tensor2 = tf.ones(shape=(3, 2), dtype=tf.int32)\n",
    "tensor2\n",
    "\n",
    "# tf.ones(shape, dtype=tf.float32, name=None)"
   ]
  },
  {
   "cell_type": "code",
   "execution_count": 4,
   "id": "6f0d6d0e-576a-4abe-9c1e-9d02eab1a39d",
   "metadata": {},
   "outputs": [
    {
     "data": {
      "text/plain": [
       "<tf.Tensor: shape=(3,), dtype=float32, numpy=array([1., 1., 1.], dtype=float32)>"
      ]
     },
     "execution_count": 4,
     "metadata": {},
     "output_type": "execute_result"
    }
   ],
   "source": [
    "tensor3 = tf.ones_like(input=tensor1)\n",
    "tensor3\n",
    "# tf.ones_like(input, dtype=None, name=None)"
   ]
  },
  {
   "cell_type": "code",
   "execution_count": 5,
   "id": "5e6510f6-0da9-46c5-8f9e-ca9e1c39dbc5",
   "metadata": {},
   "outputs": [
    {
     "data": {
      "text/plain": [
       "<tf.Tensor: shape=(3, 3), dtype=float32, numpy=\n",
       "array([[0., 0., 0.],\n",
       "       [0., 0., 0.],\n",
       "       [0., 0., 0.]], dtype=float32)>"
      ]
     },
     "execution_count": 5,
     "metadata": {},
     "output_type": "execute_result"
    }
   ],
   "source": [
    "tensor4 = tf.zeros(shape=(3, 3))\n",
    "tensor4\n",
    "# tf.zeros(shape, dtype=tf.float32, name=None)"
   ]
  },
  {
   "cell_type": "code",
   "execution_count": 6,
   "id": "96d2ace7-9c70-4264-a02b-b3951873133f",
   "metadata": {},
   "outputs": [
    {
     "data": {
      "text/plain": [
       "<tf.Tensor: shape=(3, 2), dtype=int32, numpy=\n",
       "array([[0, 0],\n",
       "       [0, 0],\n",
       "       [0, 0]])>"
      ]
     },
     "execution_count": 6,
     "metadata": {},
     "output_type": "execute_result"
    }
   ],
   "source": [
    "tensor5 = tf.zeros_like(input=tensor2)\n",
    "tensor5\n",
    "# tf.zeros_like(input, dtype=None, name=None)"
   ]
  },
  {
   "cell_type": "code",
   "execution_count": 7,
   "id": "6590786c-deff-45a8-a008-eed2145c85f5",
   "metadata": {},
   "outputs": [
    {
     "data": {
      "text/plain": [
       "<tf.Tensor: shape=(5, 3), dtype=float32, numpy=\n",
       "array([[1., 0., 0.],\n",
       "       [0., 1., 0.],\n",
       "       [0., 0., 1.],\n",
       "       [0., 0., 0.],\n",
       "       [0., 0., 0.]], dtype=float32)>"
      ]
     },
     "execution_count": 7,
     "metadata": {},
     "output_type": "execute_result"
    }
   ],
   "source": [
    "tensor5 = tf.eye(num_rows=5, num_columns=3, batch_shape=None, dtype=tf.dtypes.float32, name=None)\n",
    "tensor5\n",
    "# tf.eye(num_rows, num_columns=None, batch_shape=None, dtype=tf.dtypes.float32, name=None)"
   ]
  },
  {
   "cell_type": "code",
   "execution_count": 8,
   "id": "25070899-6051-4bc2-b3d0-2975b5fcd99a",
   "metadata": {},
   "outputs": [
    {
     "data": {
      "text/plain": [
       "<tf.Tensor: shape=(2, 2), dtype=float32, numpy=\n",
       "array([[1., 0.],\n",
       "       [0., 1.]], dtype=float32)>"
      ]
     },
     "execution_count": 8,
     "metadata": {},
     "output_type": "execute_result"
    }
   ],
   "source": [
    "tensor6 = tf.eye(num_rows=2, num_columns=2, batch_shape=None, dtype=tf.dtypes.float32, name=None)\n",
    "tensor6"
   ]
  },
  {
   "cell_type": "code",
   "execution_count": 9,
   "id": "82d7ae85-f83a-4ae9-a8e4-bc3523041497",
   "metadata": {},
   "outputs": [
    {
     "data": {
      "text/plain": [
       "<tf.Tensor: shape=(2, 2, 2, 2), dtype=int32, numpy=\n",
       "array([[[[1, 0],\n",
       "         [0, 1]],\n",
       "\n",
       "        [[1, 0],\n",
       "         [0, 1]]],\n",
       "\n",
       "\n",
       "       [[[1, 0],\n",
       "         [0, 1]],\n",
       "\n",
       "        [[1, 0],\n",
       "         [0, 1]]]])>"
      ]
     },
     "execution_count": 9,
     "metadata": {},
     "output_type": "execute_result"
    }
   ],
   "source": [
    "tensor7 = tf.eye(num_rows=2, num_columns=2, batch_shape=(2, 2), dtype=tf.dtypes.int32, name=None)\n",
    "tensor7"
   ]
  },
  {
   "cell_type": "code",
   "execution_count": 10,
   "id": "b43a5e3e-eacb-4294-9136-89a5cef216c6",
   "metadata": {},
   "outputs": [
    {
     "data": {
      "text/plain": [
       "(TensorShape([2, 2, 2, 2]), tf.int32)"
      ]
     },
     "execution_count": 10,
     "metadata": {},
     "output_type": "execute_result"
    }
   ],
   "source": [
    "tensor7.shape, tensor7.dtype"
   ]
  },
  {
   "cell_type": "code",
   "execution_count": 11,
   "id": "3d2c7b53-27e5-4097-b7c1-c7b6e8994b9e",
   "metadata": {},
   "outputs": [
    {
     "data": {
      "text/plain": [
       "<tf.Tensor: shape=(2, 2, 2, 2), dtype=float32, numpy=\n",
       "array([[[[1., 0.],\n",
       "         [0., 1.]],\n",
       "\n",
       "        [[1., 0.],\n",
       "         [0., 1.]]],\n",
       "\n",
       "\n",
       "       [[[1., 0.],\n",
       "         [0., 1.]],\n",
       "\n",
       "        [[1., 0.],\n",
       "         [0., 1.]]]], dtype=float32)>"
      ]
     },
     "execution_count": 11,
     "metadata": {},
     "output_type": "execute_result"
    }
   ],
   "source": [
    "tensor8 = tf.cast(x=tensor7, dtype=tf.dtypes.float32, name=None)\n",
    "tensor8\n",
    "\n",
    "# Cast function can convert the types of one variable.\n",
    "\n",
    "# tf.cast(x, dtype, name=None)"
   ]
  },
  {
   "cell_type": "code",
   "execution_count": 12,
   "id": "86bfb4da-85db-4e9a-b05e-854d04555cd7",
   "metadata": {},
   "outputs": [
    {
     "data": {
      "text/plain": [
       "<tf.Tensor: shape=(1, 6), dtype=int32, numpy=array([[1, 2, 3, 4, 5, 6]])>"
      ]
     },
     "execution_count": 12,
     "metadata": {},
     "output_type": "execute_result"
    }
   ],
   "source": [
    "tf1 = tf.constant(value=[[1, 2, 3]])\n",
    "tf2 = tf.constant(value=[[4, 5, 6]])\n",
    "tensor9 = tf.concat(values=[tf1, tf2], axis=1, name=\"concat\")\n",
    "tensor9"
   ]
  },
  {
   "cell_type": "code",
   "execution_count": 13,
   "id": "e2d2b609-bdcd-49f5-96f5-0892dbff2d5b",
   "metadata": {},
   "outputs": [
    {
     "data": {
      "text/plain": [
       "<tf.Tensor: shape=(2, 3), dtype=int32, numpy=\n",
       "array([[1, 2, 3],\n",
       "       [4, 5, 6]])>"
      ]
     },
     "execution_count": 13,
     "metadata": {},
     "output_type": "execute_result"
    }
   ],
   "source": [
    "tensor10 = tf.concat(values=[tf1, tf2], axis=0, name=\"concat\")\n",
    "tensor10"
   ]
  },
  {
   "cell_type": "code",
   "execution_count": 14,
   "id": "00a8fe74-15a3-4d70-b8c0-66472d7262d4",
   "metadata": {},
   "outputs": [
    {
     "data": {
      "text/plain": [
       "<tf.Tensor: shape=(), dtype=int32, numpy=2>"
      ]
     },
     "execution_count": 14,
     "metadata": {},
     "output_type": "execute_result"
    }
   ],
   "source": [
    "tf.rank(input=tensor10, name=None)"
   ]
  },
  {
   "cell_type": "code",
   "execution_count": 15,
   "id": "22a385e9-a7fa-48f7-91d0-00f3a472121a",
   "metadata": {},
   "outputs": [
    {
     "name": "stdout",
     "output_type": "stream",
     "text": [
      "2\n",
      "tf.Tensor(2, shape=(), dtype=int32)\n"
     ]
    }
   ],
   "source": [
    "tensor11 = tf.constant(value=[[1, 1, 1], [2, 2, 2], [3, 3, 3]])\n",
    "print(tensor11.ndim)\n",
    "print(tf.rank(input=tensor11))"
   ]
  },
  {
   "cell_type": "code",
   "execution_count": 16,
   "id": "e96fce5c-0aa6-412b-a88c-5a11d518117b",
   "metadata": {},
   "outputs": [
    {
     "name": "stdout",
     "output_type": "stream",
     "text": [
      "tf.Tensor(3, shape=(), dtype=int32)\n"
     ]
    }
   ],
   "source": [
    "tensor12 = tf.constant(value=[[[1, 1, 1], [2, 2, 2], [3, 3, 3]]])\n",
    "print(tf.rank(input=tensor12))"
   ]
  },
  {
   "cell_type": "code",
   "execution_count": 17,
   "id": "db79264e-9567-49c4-94d0-f314be8ffdc5",
   "metadata": {},
   "outputs": [
    {
     "data": {
      "text/plain": [
       "<tf.Tensor: shape=(), dtype=int32, numpy=9>"
      ]
     },
     "execution_count": 17,
     "metadata": {},
     "output_type": "execute_result"
    }
   ],
   "source": [
    "tf.size(tensor12)"
   ]
  },
  {
   "cell_type": "code",
   "execution_count": 18,
   "id": "2638a778-f774-4a68-a60a-00ac41eaf0a4",
   "metadata": {},
   "outputs": [
    {
     "data": {
      "text/plain": [
       "<tf.Tensor: shape=(3, 3), dtype=float32, numpy=\n",
       "array([[10., 10., 10.],\n",
       "       [10., 10., 10.],\n",
       "       [10., 10., 10.]], dtype=float32)>"
      ]
     },
     "execution_count": 18,
     "metadata": {},
     "output_type": "execute_result"
    }
   ],
   "source": [
    "tensor13 = tf.random.normal(\n",
    "    shape = (3, 3),\n",
    "    mean = 10.0,\n",
    "    stddev = 0.0,\n",
    "    dtype = tf.float32,\n",
    "    seed = 10, \n",
    "    name = None\n",
    ")\n",
    "tensor13"
   ]
  },
  {
   "cell_type": "code",
   "execution_count": 19,
   "id": "3f7e211c-d28e-461d-acbb-1ece96e6d248",
   "metadata": {},
   "outputs": [
    {
     "name": "stdout",
     "output_type": "stream",
     "text": [
      "tf.Tensor(10.0, shape=(), dtype=float32)\n"
     ]
    }
   ],
   "source": [
    "result = 0\n",
    "for element in tensor13:\n",
    "    result += sum(element)\n",
    "print(result / 9)"
   ]
  },
  {
   "cell_type": "code",
   "execution_count": 20,
   "id": "a91455cd-4e8b-4370-8b7f-679cf68c3b31",
   "metadata": {},
   "outputs": [
    {
     "data": {
      "text/plain": [
       "<tf.Tensor: shape=(3, 3), dtype=int32, numpy=\n",
       "array([[11, 19, 14],\n",
       "       [19, 12, 14],\n",
       "       [19, 17, 16]])>"
      ]
     },
     "execution_count": 20,
     "metadata": {},
     "output_type": "execute_result"
    }
   ],
   "source": [
    "# tf.random.uniform(shape, minval=0, maxval=None, dtype=tf.float32, seed=None, name=None)\n",
    "\n",
    "tensor14 = tf.random.uniform(\n",
    "    shape=(3, 3),\n",
    "    minval = 10,\n",
    "    maxval = 20,\n",
    "    dtype = tf.dtypes.int32,\n",
    "    seed = 5,\n",
    "    name = None\n",
    ")\n",
    "tensor14"
   ]
  },
  {
   "cell_type": "code",
   "execution_count": 26,
   "id": "69a0f043-2edc-48c3-b92c-5b2dab996cd2",
   "metadata": {},
   "outputs": [
    {
     "name": "stdout",
     "output_type": "stream",
     "text": [
      "tf.Tensor([1 2 3 4 5 6], shape=(6,), dtype=int32)\n",
      "tf.Tensor(1, shape=(), dtype=int32)\n",
      "tf.Tensor(6, shape=(), dtype=int32)\n",
      "tf.Tensor([1 2 3], shape=(3,), dtype=int32)\n"
     ]
    }
   ],
   "source": [
    "tensor15 = tf.constant(value=[1, 2, 3, 4, 5, 6])\n",
    "print(tensor15)\n",
    "print(tensor15[0])\n",
    "print(tensor15[-1])\n",
    "print(tensor15[0:3])"
   ]
  },
  {
   "cell_type": "code",
   "execution_count": 32,
   "id": "f0f729f1-d07f-45f8-b8e7-f7c96f1c1bb8",
   "metadata": {},
   "outputs": [
    {
     "name": "stdout",
     "output_type": "stream",
     "text": [
      "tf.Tensor([10 15 20 25 30 35 40 45], shape=(8,), dtype=int32)\n",
      "tf.Tensor([10 15 20 25], shape=(4,), dtype=int32)\n",
      "tf.Tensor([20 25 30], shape=(3,), dtype=int32)\n",
      "tf.Tensor([15 25 35], shape=(3,), dtype=int32)\n",
      "tf.Tensor([10 15 20 25 30 35 40], shape=(7,), dtype=int32)\n"
     ]
    }
   ],
   "source": [
    "tensor16 = tf.range(start=10, limit=50, delta=5)\n",
    "print(tensor16)\n",
    "print(tensor16[0:4])\n",
    "print(tensor16[2:5])\n",
    "print(tensor16[1:6:2])\n",
    "print(tensor16[0:-1])"
   ]
  },
  {
   "cell_type": "code",
   "execution_count": 40,
   "id": "0168a092-625d-4d55-8f11-e5f49dbf878a",
   "metadata": {},
   "outputs": [
    {
     "name": "stdout",
     "output_type": "stream",
     "text": [
      "tf.Tensor(\n",
      "[[1 2 3]\n",
      " [4 5 6]\n",
      " [7 8 9]], shape=(3, 3), dtype=int32)\n"
     ]
    }
   ],
   "source": [
    "tensor17 = tf.constant([\n",
    "    [1, 2, 3],\n",
    "    [4, 5, 6],\n",
    "    [7, 8, 9]\n",
    "])\n",
    "print(tensor17)"
   ]
  },
  {
   "cell_type": "code",
   "execution_count": 41,
   "id": "33e177cc-3544-4861-b3b7-a8b6ddd3d9a5",
   "metadata": {},
   "outputs": [
    {
     "data": {
      "text/plain": [
       "<tf.Tensor: shape=(2, 2), dtype=int32, numpy=\n",
       "array([[1, 2],\n",
       "       [4, 5]])>"
      ]
     },
     "execution_count": 41,
     "metadata": {},
     "output_type": "execute_result"
    }
   ],
   "source": [
    "tensor17[0:2, 0:2]"
   ]
  },
  {
   "cell_type": "code",
   "execution_count": 44,
   "id": "b9049b66-927e-4e08-a7b0-fbf07d9f74c4",
   "metadata": {},
   "outputs": [
    {
     "data": {
      "text/plain": [
       "<tf.Tensor: shape=(), dtype=int32, numpy=9>"
      ]
     },
     "execution_count": 44,
     "metadata": {},
     "output_type": "execute_result"
    }
   ],
   "source": [
    "tensor17[2, 2]"
   ]
  },
  {
   "cell_type": "code",
   "execution_count": 45,
   "id": "27e2159f-31c7-4527-be21-50f19c75987f",
   "metadata": {},
   "outputs": [
    {
     "data": {
      "text/plain": [
       "<tf.Tensor: shape=(3,), dtype=int32, numpy=array([4, 5, 6])>"
      ]
     },
     "execution_count": 45,
     "metadata": {},
     "output_type": "execute_result"
    }
   ],
   "source": [
    "tensor17[1]"
   ]
  },
  {
   "cell_type": "code",
   "execution_count": 47,
   "id": "c829661f-c850-4996-b311-3966a3ddfa91",
   "metadata": {},
   "outputs": [
    {
     "data": {
      "text/plain": [
       "<tf.Tensor: shape=(3, 1), dtype=int32, numpy=\n",
       "array([[2],\n",
       "       [5],\n",
       "       [8]])>"
      ]
     },
     "execution_count": 47,
     "metadata": {},
     "output_type": "execute_result"
    }
   ],
   "source": [
    "tensor17[0:3, 1:2]"
   ]
  },
  {
   "cell_type": "code",
   "execution_count": 48,
   "id": "e75bf070-d098-45d1-9e2d-c9b6b7f7553e",
   "metadata": {},
   "outputs": [
    {
     "data": {
      "text/plain": [
       "<tf.Tensor: shape=(3, 2), dtype=int32, numpy=\n",
       "array([[2, 3],\n",
       "       [5, 6],\n",
       "       [8, 9]])>"
      ]
     },
     "execution_count": 48,
     "metadata": {},
     "output_type": "execute_result"
    }
   ],
   "source": [
    "tensor17[0:3, 1:3]"
   ]
  },
  {
   "cell_type": "code",
   "execution_count": 49,
   "id": "ecf85691-a251-43c1-83c0-a6519338c542",
   "metadata": {},
   "outputs": [
    {
     "data": {
      "text/plain": [
       "<tf.Tensor: shape=(3,), dtype=int32, numpy=array([1, 4, 7])>"
      ]
     },
     "execution_count": 49,
     "metadata": {},
     "output_type": "execute_result"
    }
   ],
   "source": [
    "tensor17[:, 0]"
   ]
  },
  {
   "cell_type": "code",
   "execution_count": 50,
   "id": "f25b3fe7-4daf-4c9c-a969-66b260ad200a",
   "metadata": {},
   "outputs": [
    {
     "data": {
      "text/plain": [
       "<tf.Tensor: shape=(3,), dtype=int32, numpy=array([1, 4, 7])>"
      ]
     },
     "execution_count": 50,
     "metadata": {},
     "output_type": "execute_result"
    }
   ],
   "source": [
    "tensor17[..., 0]"
   ]
  },
  {
   "cell_type": "code",
   "execution_count": 61,
   "id": "585d60fb-d61e-46b4-83bc-fce2fbb315df",
   "metadata": {},
   "outputs": [
    {
     "name": "stdout",
     "output_type": "stream",
     "text": [
      "tf.Tensor(\n",
      "[[[ 1  2  0]\n",
      "  [ 3  5 -1]]\n",
      "\n",
      " [[10  2  0]\n",
      "  [ 1  0  2]]], shape=(2, 2, 3), dtype=int32)\n",
      "3\n"
     ]
    }
   ],
   "source": [
    "tensor18 = tf.constant([[[1, 2, 0],\n",
    "                         [3, 5, -1]],\n",
    "                       [[10, 2, 0],\n",
    "                        [1, 0, 2]]])\n",
    "print(tensor18)\n",
    "print(tensor18.ndim)"
   ]
  },
  {
   "cell_type": "code",
   "execution_count": 65,
   "id": "f2a51fc6-0e7d-4711-9978-7e75c8c10d6b",
   "metadata": {},
   "outputs": [
    {
     "name": "stdout",
     "output_type": "stream",
     "text": [
      "tf.Tensor(\n",
      "[[[1 2 3]\n",
      "  [4 5 6]]], shape=(1, 2, 3), dtype=int32)\n"
     ]
    }
   ],
   "source": [
    "ss = tf.constant([[[1, 2, 3], [4, 5, 6]]])\n",
    "print(ss)"
   ]
  },
  {
   "cell_type": "code",
   "execution_count": 68,
   "id": "21989c13-3684-4745-bd7a-dc7c1f2f24c6",
   "metadata": {},
   "outputs": [
    {
     "data": {
      "text/plain": [
       "<tf.Tensor: shape=(2,), dtype=float32, numpy=array([2.25, 3.25], dtype=float32)>"
      ]
     },
     "execution_count": 68,
     "metadata": {},
     "output_type": "execute_result"
    }
   ],
   "source": [
    "x_abs = tf.constant(value=[-2.25, 3.25])\n",
    "tf.abs(x=x_abs)"
   ]
  },
  {
   "cell_type": "code",
   "execution_count": 69,
   "id": "65bb4ec3-8df3-4b57-8ebd-f6e8f4eb77d1",
   "metadata": {},
   "outputs": [
    {
     "data": {
      "text/plain": [
       "<tf.Tensor: shape=(), dtype=float32, numpy=0.2>"
      ]
     },
     "execution_count": 69,
     "metadata": {},
     "output_type": "execute_result"
    }
   ],
   "source": [
    "tf.constant(value=tf.abs(x=0.2))"
   ]
  },
  {
   "cell_type": "code",
   "execution_count": 70,
   "id": "9af393b6-cf97-4202-bca1-d02faa1bf39f",
   "metadata": {},
   "outputs": [
    {
     "data": {
      "text/plain": [
       "<tf.Tensor: shape=(), dtype=float32, numpy=0.5>"
      ]
     },
     "execution_count": 70,
     "metadata": {},
     "output_type": "execute_result"
    }
   ],
   "source": [
    "tf.constant(value=tf.abs(x=-0.5))"
   ]
  },
  {
   "cell_type": "code",
   "execution_count": 74,
   "id": "7976bd79-bc39-4257-96c4-de607a5140e0",
   "metadata": {},
   "outputs": [
    {
     "data": {
      "text/plain": [
       "<tf.Tensor: shape=(), dtype=float32, numpy=2.25>"
      ]
     },
     "execution_count": 74,
     "metadata": {},
     "output_type": "execute_result"
    }
   ],
   "source": [
    "tf.sqrt(x=(-2.25)**2)"
   ]
  },
  {
   "cell_type": "code",
   "execution_count": 77,
   "id": "5eb594e3-4b03-43cd-94bf-5fc9ca7e26e6",
   "metadata": {},
   "outputs": [
    {
     "data": {
      "text/plain": [
       "<tf.Tensor: shape=(), dtype=float32, numpy=3.0>"
      ]
     },
     "execution_count": 77,
     "metadata": {},
     "output_type": "execute_result"
    }
   ],
   "source": [
    "tf.sqrt(x=9.0)\n",
    "\n",
    "# x value must be float"
   ]
  },
  {
   "cell_type": "code",
   "execution_count": 79,
   "id": "261b0c92-498e-4e22-bc97-52f3bb7bc933",
   "metadata": {},
   "outputs": [
    {
     "data": {
      "text/plain": [
       "<tf.Tensor: shape=(), dtype=float64, numpy=3.0>"
      ]
     },
     "execution_count": 79,
     "metadata": {},
     "output_type": "execute_result"
    }
   ],
   "source": [
    "tf.divide(x=9, y=3)"
   ]
  },
  {
   "cell_type": "code",
   "execution_count": 80,
   "id": "e32a0e4e-a781-41e8-9399-a7b6278f64e5",
   "metadata": {},
   "outputs": [
    {
     "data": {
      "text/plain": [
       "<tf.Tensor: shape=(3,), dtype=float64, numpy=array([3., 3., 3.])>"
      ]
     },
     "execution_count": 80,
     "metadata": {},
     "output_type": "execute_result"
    }
   ],
   "source": [
    "tf.divide(x=[3, 3, 3], y=[1, 1, 1])"
   ]
  },
  {
   "cell_type": "code",
   "execution_count": 81,
   "id": "9ca822c3-2561-4293-b08f-af513a757566",
   "metadata": {},
   "outputs": [
    {
     "data": {
      "text/plain": [
       "<tf.Tensor: shape=(1, 3), dtype=float64, numpy=array([[3., 3., 3.]])>"
      ]
     },
     "execution_count": 81,
     "metadata": {},
     "output_type": "execute_result"
    }
   ],
   "source": [
    "tf.divide(x=[[9, 12, 15]], y=[[3, 4, 5]])"
   ]
  },
  {
   "cell_type": "code",
   "execution_count": 82,
   "id": "af1a0796-1c03-4d91-896b-6d22c0ce471a",
   "metadata": {},
   "outputs": [
    {
     "data": {
      "text/plain": [
       "<tf.Tensor: shape=(), dtype=float64, numpy=inf>"
      ]
     },
     "execution_count": 82,
     "metadata": {},
     "output_type": "execute_result"
    }
   ],
   "source": [
    "tf.divide(x=9, y=0)"
   ]
  },
  {
   "cell_type": "code",
   "execution_count": 86,
   "id": "275886ec-b867-458a-9cf7-025ea1892fab",
   "metadata": {},
   "outputs": [
    {
     "data": {
      "text/plain": [
       "<tf.Tensor: shape=(), dtype=float64, numpy=0.0>"
      ]
     },
     "execution_count": 86,
     "metadata": {},
     "output_type": "execute_result"
    }
   ],
   "source": [
    "tf.math.divide_no_nan(x=9, y=0)"
   ]
  },
  {
   "cell_type": "code",
   "execution_count": 91,
   "id": "0aad7f12-c84b-45e1-abaa-9c58fcdee708",
   "metadata": {},
   "outputs": [
    {
     "name": "stdout",
     "output_type": "stream",
     "text": [
      "tf.Tensor([12. 10. 13. 13. 11. 13.], shape=(6,), dtype=float32)\n",
      "tf.Tensor([12. 10. 13. 13. 11. 13.], shape=(6,), dtype=float32)\n"
     ]
    }
   ],
   "source": [
    "x_1 = tf.constant(value=[5, 3, 6, 6, 4, 6], dtype=tf.float32)\n",
    "x_2 = tf.constant(value=[7], dtype=tf.float32)\n",
    "x_2_stretched = tf.constant(value=[7, 7, 7, 7, 7, 7], dtype=tf.float32)\n",
    "\n",
    "print(tf.math.add(x=x_1, y=x_2))\n",
    "print(tf.math.add(x=x_1, y=x_2_stretched))"
   ]
  },
  {
   "cell_type": "code",
   "execution_count": 93,
   "id": "01432ab4-23cf-48f0-be26-90614a18d00d",
   "metadata": {},
   "outputs": [
    {
     "name": "stdout",
     "output_type": "stream",
     "text": [
      "tf.Tensor([35. 21. 42. 42. 28. 42.], shape=(6,), dtype=float32)\n",
      "tf.Tensor([35. 21. 42. 42. 28. 42.], shape=(6,), dtype=float32)\n"
     ]
    }
   ],
   "source": [
    "x_1 = tf.constant(value=[5, 3, 6, 6, 4, 6], dtype=tf.float32)\n",
    "x_2 = tf.constant(value=[7], dtype=tf.float32)\n",
    "x_2_stretched = tf.constant(value=[7, 7, 7, 7, 7, 7], dtype=tf.float32)\n",
    "\n",
    "print(tf.math.multiply(x=x_1, y=x_2))\n",
    "print(tf.math.multiply(x=x_1, y=x_2_stretched))"
   ]
  },
  {
   "cell_type": "code",
   "execution_count": 95,
   "id": "03c4efb5-ad87-411d-8c3a-2738f398e41b",
   "metadata": {},
   "outputs": [
    {
     "name": "stdout",
     "output_type": "stream",
     "text": [
      "tf.Tensor(\n",
      "[[35. 21. 42. 42. 28. 42.]\n",
      " [30. 18. 36. 36. 24. 36.]\n",
      " [15.  9. 18. 18. 12. 18.]], shape=(3, 6), dtype=float32)\n"
     ]
    }
   ],
   "source": [
    "x_1 = tf.constant(value=[5, 3, 6, 6, 4, 6], dtype=tf.float32)\n",
    "x_2 = tf.constant(value=[[7], [6], [3]], dtype=tf.float32)\n",
    "#x_2_stretched = tf.constant(value=[7, 7, 7, 7, 7, 7], dtype=tf.float32)\n",
    "\n",
    "print(tf.math.multiply(x=x_1, y=x_2))"
   ]
  },
  {
   "cell_type": "code",
   "execution_count": 98,
   "id": "4c46265f-4f12-4f41-b139-bf55a6c21a15",
   "metadata": {},
   "outputs": [
    {
     "name": "stdout",
     "output_type": "stream",
     "text": [
      "tf.Tensor(4, shape=(), dtype=int64)\n"
     ]
    }
   ],
   "source": [
    "x_argmax = tf.constant(value=[200, 100, 50, 150, 250])\n",
    "print(tf.math.argmax(input=x_argmax))\n",
    "\n",
    "# argmax function gives us the index of max value in the tensor\n",
    "# tf.math.argmax(input, axis=None, output_type=tf.int64, name=None)"
   ]
  },
  {
   "cell_type": "code",
   "execution_count": 101,
   "id": "6b3323b6-5d21-4aa6-b9b0-cdcfc5133d2a",
   "metadata": {},
   "outputs": [
    {
     "name": "stdout",
     "output_type": "stream",
     "text": [
      "tf.Tensor(2, shape=(), dtype=int64)\n"
     ]
    }
   ],
   "source": [
    "print(tf.math.argmin(input=x_argmax))\n",
    "\n",
    "# argmin function gives us the index of max value in the tensor"
   ]
  },
  {
   "cell_type": "code",
   "execution_count": 110,
   "id": "a2597099-bdb0-4b59-98b7-d6b3a3476069",
   "metadata": {},
   "outputs": [
    {
     "name": "stdout",
     "output_type": "stream",
     "text": [
      "(3, 5)\n",
      "tf.Tensor([2 2 0 2 2], shape=(5,), dtype=int64)\n",
      "tf.Tensor([2 2 1], shape=(3,), dtype=int64)\n"
     ]
    }
   ],
   "source": [
    "x_argmax = tf.constant(value=[\n",
    "    [2, 20, 30, 3, 6],\n",
    "    [3, 11, 16, 1, 8],\n",
    "    [14, 45, 23, 5, 27]\n",
    "])\n",
    "print(x_argmax.shape)\n",
    "print(tf.math.argmax(input=x_argmax, axis=0))\n",
    "print(tf.math.argmax(input=x_argmax, axis=1))"
   ]
  },
  {
   "cell_type": "code",
   "execution_count": 112,
   "id": "65ed8720-aeb3-4e4d-942e-84710184c861",
   "metadata": {},
   "outputs": [
    {
     "name": "stdout",
     "output_type": "stream",
     "text": [
      "tf.Tensor([0 1 1 1 0], shape=(5,), dtype=int64)\n",
      "tf.Tensor([0 3 3], shape=(3,), dtype=int64)\n"
     ]
    }
   ],
   "source": [
    "print(tf.math.argmin(input=x_argmax, axis=0))\n",
    "print(tf.math.argmin(input=x_argmax, axis=1))"
   ]
  },
  {
   "cell_type": "code",
   "execution_count": null,
   "id": "b4d0349d-900f-4fa4-833f-14a7839904c6",
   "metadata": {},
   "outputs": [],
   "source": []
  },
  {
   "cell_type": "code",
   "execution_count": null,
   "id": "7b14a4b7-6ba2-467e-8a8b-890b3012c843",
   "metadata": {},
   "outputs": [],
   "source": []
  },
  {
   "cell_type": "code",
   "execution_count": null,
   "id": "7380294e-749a-4fa9-a510-ab48da94e32b",
   "metadata": {},
   "outputs": [],
   "source": []
  },
  {
   "cell_type": "code",
   "execution_count": null,
   "id": "964c5c4d-c696-419e-83b1-e21db7c7b26c",
   "metadata": {},
   "outputs": [],
   "source": []
  },
  {
   "cell_type": "code",
   "execution_count": null,
   "id": "bb7de526-c4bc-46ef-a302-f2ec8be61cca",
   "metadata": {},
   "outputs": [],
   "source": []
  },
  {
   "cell_type": "code",
   "execution_count": 97,
   "id": "9082456a-4aa2-40b0-a9c1-1d58db6cdb00",
   "metadata": {},
   "outputs": [
    {
     "data": {
      "text/plain": [
       "\u001b[1;31mSignature:\u001b[0m \u001b[0mtf\u001b[0m\u001b[1;33m.\u001b[0m\u001b[0mmath\u001b[0m\u001b[1;33m.\u001b[0m\u001b[0margmax\u001b[0m\u001b[1;33m(\u001b[0m\u001b[0minput\u001b[0m\u001b[1;33m,\u001b[0m \u001b[0maxis\u001b[0m\u001b[1;33m=\u001b[0m\u001b[1;32mNone\u001b[0m\u001b[1;33m,\u001b[0m \u001b[0moutput_type\u001b[0m\u001b[1;33m=\u001b[0m\u001b[0mtf\u001b[0m\u001b[1;33m.\u001b[0m\u001b[0mint64\u001b[0m\u001b[1;33m,\u001b[0m \u001b[0mname\u001b[0m\u001b[1;33m=\u001b[0m\u001b[1;32mNone\u001b[0m\u001b[1;33m)\u001b[0m\u001b[1;33m\u001b[0m\u001b[1;33m\u001b[0m\u001b[0m\n",
       "\u001b[1;31mDocstring:\u001b[0m\n",
       "Returns the index with the largest value across axes of a tensor.\n",
       "\n",
       "In case of identity returns the smallest index.\n",
       "\n",
       "For example:\n",
       "\n",
       ">>> A = tf.constant([2, 20, 30, 3, 6])\n",
       ">>> tf.math.argmax(A)  # A[2] is maximum in tensor A\n",
       "<tf.Tensor: shape=(), dtype=int64, numpy=2>\n",
       ">>> B = tf.constant([[2, 20, 30, 3, 6], [3, 11, 16, 1, 8],\n",
       "...                  [14, 45, 23, 5, 27]])\n",
       ">>> tf.math.argmax(B, 0)\n",
       "<tf.Tensor: shape=(5,), dtype=int64, numpy=array([2, 2, 0, 2, 2])>\n",
       ">>> tf.math.argmax(B, 1)\n",
       "<tf.Tensor: shape=(3,), dtype=int64, numpy=array([2, 2, 1])>\n",
       ">>> C = tf.constant([0, 0, 0, 0])\n",
       ">>> tf.math.argmax(C) # Returns smallest index in case of ties\n",
       "<tf.Tensor: shape=(), dtype=int64, numpy=0>\n",
       "\n",
       "Args:\n",
       "  input: A `Tensor`.\n",
       "  axis: An integer, the axis to reduce across. Default to 0.\n",
       "  output_type: An optional output dtype (`tf.int32` or `tf.int64`). Defaults\n",
       "    to `tf.int64`.\n",
       "  name: An optional name for the operation.\n",
       "\n",
       "Returns:\n",
       "  A `Tensor` of type `output_type`.\n",
       "\u001b[1;31mFile:\u001b[0m      c:\\users\\murat\\anaconda3\\lib\\site-packages\\tensorflow\\python\\ops\\math_ops.py\n",
       "\u001b[1;31mType:\u001b[0m      function\n"
      ]
     },
     "metadata": {},
     "output_type": "display_data"
    }
   ],
   "source": [
    "?tf.math.argmax"
   ]
  },
  {
   "cell_type": "code",
   "execution_count": 92,
   "id": "308d5c76-6687-49c9-a00d-92af0c1e65cb",
   "metadata": {},
   "outputs": [
    {
     "data": {
      "text/plain": [
       "\u001b[1;31mSignature:\u001b[0m \u001b[0mtf\u001b[0m\u001b[1;33m.\u001b[0m\u001b[0mmath\u001b[0m\u001b[1;33m.\u001b[0m\u001b[0mmultiply\u001b[0m\u001b[1;33m(\u001b[0m\u001b[0mx\u001b[0m\u001b[1;33m,\u001b[0m \u001b[0my\u001b[0m\u001b[1;33m,\u001b[0m \u001b[0mname\u001b[0m\u001b[1;33m=\u001b[0m\u001b[1;32mNone\u001b[0m\u001b[1;33m)\u001b[0m\u001b[1;33m\u001b[0m\u001b[1;33m\u001b[0m\u001b[0m\n",
       "\u001b[1;31mDocstring:\u001b[0m\n",
       "Returns an element-wise x * y.\n",
       "\n",
       "For example:\n",
       "\n",
       ">>> x = tf.constant(([1, 2, 3, 4]))\n",
       ">>> tf.math.multiply(x, x)\n",
       "<tf.Tensor: shape=(4,), dtype=..., numpy=array([ 1,  4,  9, 16], dtype=int32)>\n",
       "\n",
       "Since `tf.math.multiply` will convert its arguments to `Tensor`s, you can also\n",
       "pass in non-`Tensor` arguments:\n",
       "\n",
       ">>> tf.math.multiply(7,6)\n",
       "<tf.Tensor: shape=(), dtype=int32, numpy=42>\n",
       "\n",
       "If `x.shape` is not the same as `y.shape`, they will be broadcast to a\n",
       "compatible shape. (More about broadcasting\n",
       "[here](https://docs.scipy.org/doc/numpy/user/basics.broadcasting.html).)\n",
       "\n",
       "For example:\n",
       "\n",
       ">>> x = tf.ones([1, 2]);\n",
       ">>> y = tf.ones([2, 1]);\n",
       ">>> x * y  # Taking advantage of operator overriding\n",
       "<tf.Tensor: shape=(2, 2), dtype=float32, numpy=\n",
       "array([[1., 1.],\n",
       "     [1., 1.]], dtype=float32)>\n",
       "\n",
       "The reduction version of this elementwise operation is `tf.math.reduce_prod`\n",
       "\n",
       "Args:\n",
       "  x: A Tensor. Must be one of the following types: `bfloat16`,\n",
       "    `half`, `float32`, `float64`, `uint8`, `int8`, `uint16`,\n",
       "    `int16`, `int32`, `int64`, `complex64`, `complex128`.\n",
       "  y: A `Tensor`. Must have the same type as `x`.\n",
       "  name: A name for the operation (optional).\n",
       "\n",
       "Returns:\n",
       "\n",
       "A `Tensor`.  Has the same type as `x`.\n",
       "\n",
       "Raises:\n",
       "\n",
       " * InvalidArgumentError: When `x` and `y` have incompatible shapes or types.\n",
       "\u001b[1;31mFile:\u001b[0m      c:\\users\\murat\\anaconda3\\lib\\site-packages\\tensorflow\\python\\ops\\math_ops.py\n",
       "\u001b[1;31mType:\u001b[0m      function\n"
      ]
     },
     "metadata": {},
     "output_type": "display_data"
    }
   ],
   "source": [
    "?tf.math.multiply"
   ]
  },
  {
   "cell_type": "code",
   "execution_count": 89,
   "id": "29f592c2-ae5a-41da-92f1-9615c26b9abe",
   "metadata": {},
   "outputs": [
    {
     "data": {
      "text/plain": [
       "\u001b[1;31mSignature:\u001b[0m \u001b[0mtf\u001b[0m\u001b[1;33m.\u001b[0m\u001b[0mmath\u001b[0m\u001b[1;33m.\u001b[0m\u001b[0madd\u001b[0m\u001b[1;33m(\u001b[0m\u001b[0mx\u001b[0m\u001b[1;33m,\u001b[0m \u001b[0my\u001b[0m\u001b[1;33m,\u001b[0m \u001b[0mname\u001b[0m\u001b[1;33m=\u001b[0m\u001b[1;32mNone\u001b[0m\u001b[1;33m)\u001b[0m\u001b[1;33m\u001b[0m\u001b[1;33m\u001b[0m\u001b[0m\n",
       "\u001b[1;31mDocstring:\u001b[0m\n",
       "Returns x + y element-wise.\n",
       "\n",
       "Example usages below.\n",
       "\n",
       "Add a scalar and a list:\n",
       "\n",
       ">>> x = [1, 2, 3, 4, 5]\n",
       ">>> y = 1\n",
       ">>> tf.add(x, y)\n",
       "<tf.Tensor: shape=(5,), dtype=int32, numpy=array([2, 3, 4, 5, 6],\n",
       "dtype=int32)>\n",
       "\n",
       "Note that binary `+` operator can be used instead:\n",
       "\n",
       ">>> x = tf.convert_to_tensor([1, 2, 3, 4, 5])\n",
       ">>> y = tf.convert_to_tensor(1)\n",
       ">>> x + y\n",
       "<tf.Tensor: shape=(5,), dtype=int32, numpy=array([2, 3, 4, 5, 6],\n",
       "dtype=int32)>\n",
       "\n",
       "Add a tensor and a list of same shape:\n",
       "\n",
       ">>> x = [1, 2, 3, 4, 5]\n",
       ">>> y = tf.constant([1, 2, 3, 4, 5])\n",
       ">>> tf.add(x, y)\n",
       "<tf.Tensor: shape=(5,), dtype=int32,\n",
       "numpy=array([ 2,  4,  6,  8, 10], dtype=int32)>\n",
       "\n",
       "**Warning**: If one of the inputs (`x` or `y`) is a tensor and the other is a\n",
       "non-tensor, the non-tensor input will adopt (or get casted to) the data type\n",
       "of the tensor input. This can potentially cause unwanted overflow or underflow\n",
       "conversion.\n",
       "\n",
       "For example,\n",
       "\n",
       ">>> x = tf.constant([1, 2], dtype=tf.int8)\n",
       ">>> y = [2**7 + 1, 2**7 + 2]\n",
       ">>> tf.add(x, y)\n",
       "<tf.Tensor: shape=(2,), dtype=int8, numpy=array([-126, -124], dtype=int8)>\n",
       "\n",
       "When adding two input values of different shapes, `Add` follows NumPy\n",
       "broadcasting rules. The two input array shapes are compared element-wise.\n",
       "Starting with the trailing dimensions, the two dimensions either have to be\n",
       "equal or one of them needs to be `1`.\n",
       "\n",
       "For example,\n",
       "\n",
       ">>> x = np.ones(6).reshape(1, 2, 1, 3)\n",
       ">>> y = np.ones(6).reshape(2, 1, 3, 1)\n",
       ">>> tf.add(x, y).shape.as_list()\n",
       "[2, 2, 3, 3]\n",
       "\n",
       "Another example with two arrays of different dimension.\n",
       "\n",
       ">>> x = np.ones([1, 2, 1, 4])\n",
       ">>> y = np.ones([3, 4])\n",
       ">>> tf.add(x, y).shape.as_list()\n",
       "[1, 2, 3, 4]\n",
       "\n",
       "The reduction version of this elementwise operation is `tf.math.reduce_sum`\n",
       "\n",
       "Args:\n",
       "  x: A `tf.Tensor`. Must be one of the following types: bfloat16, half,\n",
       "    float16, float32, float64, uint8, uint16, uint32, uint64, int8, int16,\n",
       "    int32, int64, complex64, complex128, string.\n",
       "  y: A `tf.Tensor`. Must have the same type as x.\n",
       "  name: A name for the operation (optional)\n",
       "\u001b[1;31mFile:\u001b[0m      c:\\users\\murat\\anaconda3\\lib\\site-packages\\tensorflow\\python\\ops\\math_ops.py\n",
       "\u001b[1;31mType:\u001b[0m      function\n"
      ]
     },
     "metadata": {},
     "output_type": "display_data"
    }
   ],
   "source": [
    "?tf.math.add"
   ]
  },
  {
   "cell_type": "code",
   "execution_count": 85,
   "id": "5b96006d-d077-4a34-9e8c-86a28a72ae0c",
   "metadata": {},
   "outputs": [
    {
     "data": {
      "text/plain": [
       "\u001b[1;31mSignature:\u001b[0m \u001b[0mtf\u001b[0m\u001b[1;33m.\u001b[0m\u001b[0mmath\u001b[0m\u001b[1;33m.\u001b[0m\u001b[0mdivide_no_nan\u001b[0m\u001b[1;33m(\u001b[0m\u001b[0mx\u001b[0m\u001b[1;33m,\u001b[0m \u001b[0my\u001b[0m\u001b[1;33m,\u001b[0m \u001b[0mname\u001b[0m\u001b[1;33m=\u001b[0m\u001b[1;32mNone\u001b[0m\u001b[1;33m)\u001b[0m\u001b[1;33m\u001b[0m\u001b[1;33m\u001b[0m\u001b[0m\n",
       "\u001b[1;31mDocstring:\u001b[0m\n",
       "Computes a safe divide which returns 0 if `y` (denominator) is zero.\n",
       "\n",
       "For example:\n",
       "\n",
       ">>> tf.constant(3.0) / 0.0\n",
       "<tf.Tensor: shape=(), dtype=float32, numpy=inf>\n",
       ">>> tf.math.divide_no_nan(3.0, 0.0)\n",
       "<tf.Tensor: shape=(), dtype=float32, numpy=0.0>\n",
       "\n",
       "Note that 0 is returned if `y` is 0 even if `x` is nonfinite:\n",
       "\n",
       ">>> tf.math.divide_no_nan(np.nan, 0.0)\n",
       "<tf.Tensor: shape=(), dtype=float32, numpy=0.0>\n",
       "\n",
       "Args:\n",
       "  x: A `Tensor` of a floating or integer dtype.\n",
       "  y: A `Tensor` with the same dtype as `x` and a compatible shape.\n",
       "  name: A name for the operation (optional).\n",
       "\n",
       "Returns:\n",
       "  The element-wise quotient as in `tf.math.divide(x, y)`,\n",
       "  except that division by zero produces `0.0`, not `nan`.\n",
       "\u001b[1;31mFile:\u001b[0m      c:\\users\\murat\\anaconda3\\lib\\site-packages\\tensorflow\\python\\ops\\math_ops.py\n",
       "\u001b[1;31mType:\u001b[0m      function\n"
      ]
     },
     "metadata": {},
     "output_type": "display_data"
    }
   ],
   "source": [
    "?tf.math.divide_no_nan"
   ]
  },
  {
   "cell_type": "code",
   "execution_count": 78,
   "id": "240e1829-7041-438e-a8cc-b1c4f0897668",
   "metadata": {},
   "outputs": [
    {
     "data": {
      "text/plain": [
       "\u001b[1;31mSignature:\u001b[0m \u001b[0mtf\u001b[0m\u001b[1;33m.\u001b[0m\u001b[0mdivide\u001b[0m\u001b[1;33m(\u001b[0m\u001b[0mx\u001b[0m\u001b[1;33m,\u001b[0m \u001b[0my\u001b[0m\u001b[1;33m,\u001b[0m \u001b[0mname\u001b[0m\u001b[1;33m=\u001b[0m\u001b[1;32mNone\u001b[0m\u001b[1;33m)\u001b[0m\u001b[1;33m\u001b[0m\u001b[1;33m\u001b[0m\u001b[0m\n",
       "\u001b[1;31mDocstring:\u001b[0m\n",
       "Computes Python style division of `x` by `y`.\n",
       "\n",
       "For example:\n",
       "\n",
       ">>> x = tf.constant([16, 12, 11])\n",
       ">>> y = tf.constant([4, 6, 2])\n",
       ">>> tf.divide(x,y)\n",
       "<tf.Tensor: shape=(3,), dtype=float64,\n",
       "numpy=array([4. , 2. , 5.5])>\n",
       "\n",
       "Args:\n",
       "  x: A `Tensor`\n",
       "  y: A `Tensor`\n",
       "  name: A name for the operation (optional).\n",
       "\n",
       "Returns:\n",
       "  A `Tensor` with same shape as input\n",
       "\u001b[1;31mFile:\u001b[0m      c:\\users\\murat\\anaconda3\\lib\\site-packages\\tensorflow\\python\\ops\\math_ops.py\n",
       "\u001b[1;31mType:\u001b[0m      function\n"
      ]
     },
     "metadata": {},
     "output_type": "display_data"
    }
   ],
   "source": [
    "?tf.divide"
   ]
  },
  {
   "cell_type": "code",
   "execution_count": 73,
   "id": "19347025-91ac-455a-9728-974fb1e94c27",
   "metadata": {},
   "outputs": [
    {
     "data": {
      "text/plain": [
       "\u001b[1;31mSignature:\u001b[0m \u001b[0mtf\u001b[0m\u001b[1;33m.\u001b[0m\u001b[0msqrt\u001b[0m\u001b[1;33m(\u001b[0m\u001b[0mx\u001b[0m\u001b[1;33m,\u001b[0m \u001b[0mname\u001b[0m\u001b[1;33m=\u001b[0m\u001b[1;32mNone\u001b[0m\u001b[1;33m)\u001b[0m\u001b[1;33m\u001b[0m\u001b[1;33m\u001b[0m\u001b[0m\n",
       "\u001b[1;31mDocstring:\u001b[0m\n",
       "Computes element-wise square root of the input tensor.\n",
       "\n",
       "Note: This operation does not support integer types.\n",
       "\n",
       ">>> x = tf.constant([[4.0], [16.0]])\n",
       ">>> tf.sqrt(x)\n",
       "<tf.Tensor: shape=(2, 1), dtype=float32, numpy=\n",
       "  array([[2.],\n",
       "         [4.]], dtype=float32)>\n",
       ">>> y = tf.constant([[-4.0], [16.0]])\n",
       ">>> tf.sqrt(y)\n",
       "<tf.Tensor: shape=(2, 1), dtype=float32, numpy=\n",
       "  array([[nan],\n",
       "         [ 4.]], dtype=float32)>\n",
       ">>> z = tf.constant([[-1.0], [16.0]], dtype=tf.complex128)\n",
       ">>> tf.sqrt(z)\n",
       "<tf.Tensor: shape=(2, 1), dtype=complex128, numpy=\n",
       "  array([[0.0+1.j],\n",
       "         [4.0+0.j]])>\n",
       "\n",
       "Note: In order to support complex type, please provide an input tensor\n",
       "of `complex64` or `complex128`.\n",
       "\n",
       "Args:\n",
       "  x: A `tf.Tensor` of type `bfloat16`, `half`, `float32`, `float64`,\n",
       "    `complex64`, `complex128`\n",
       "  name: A name for the operation (optional).\n",
       "\n",
       "Returns:\n",
       "  A `tf.Tensor` of same size, type and sparsity as `x`.\n",
       "\n",
       "  If `x` is a `SparseTensor`, returns\n",
       "  `SparseTensor(x.indices, tf.math.sqrt(x.values, ...), x.dense_shape)`\n",
       "\u001b[1;31mFile:\u001b[0m      c:\\users\\murat\\anaconda3\\lib\\site-packages\\tensorflow\\python\\ops\\math_ops.py\n",
       "\u001b[1;31mType:\u001b[0m      function\n"
      ]
     },
     "metadata": {},
     "output_type": "display_data"
    }
   ],
   "source": [
    "?tf.sqrt"
   ]
  },
  {
   "cell_type": "code",
   "execution_count": 67,
   "id": "8af70233-414a-491c-8ccb-62c0bfd94947",
   "metadata": {},
   "outputs": [
    {
     "data": {
      "text/plain": [
       "\u001b[1;31mSignature:\u001b[0m \u001b[0mtf\u001b[0m\u001b[1;33m.\u001b[0m\u001b[0mabs\u001b[0m\u001b[1;33m(\u001b[0m\u001b[0mx\u001b[0m\u001b[1;33m,\u001b[0m \u001b[0mname\u001b[0m\u001b[1;33m=\u001b[0m\u001b[1;32mNone\u001b[0m\u001b[1;33m)\u001b[0m\u001b[1;33m\u001b[0m\u001b[1;33m\u001b[0m\u001b[0m\n",
       "\u001b[1;31mDocstring:\u001b[0m\n",
       "Computes the absolute value of a tensor.\n",
       "\n",
       "Given a tensor of integer or floating-point values, this operation returns a\n",
       "tensor of the same type, where each element contains the absolute value of the\n",
       "corresponding element in the input.\n",
       "\n",
       "Given a tensor `x` of complex numbers, this operation returns a tensor of type\n",
       "`float32` or `float64` that is the absolute value of each element in `x`. For\n",
       "a complex number \\\\(a + bj\\\\), its absolute value is computed as\n",
       "\\\\(\\sqrt{a^2 + b^2}\\\\).\n",
       "\n",
       "For example:\n",
       "\n",
       ">>> # real number\n",
       ">>> x = tf.constant([-2.25, 3.25])\n",
       ">>> tf.abs(x)\n",
       "<tf.Tensor: shape=(2,), dtype=float32,\n",
       "numpy=array([2.25, 3.25], dtype=float32)>\n",
       "\n",
       ">>> # complex number\n",
       ">>> x = tf.constant([[-2.25 + 4.75j], [-3.25 + 5.75j]])\n",
       ">>> tf.abs(x)\n",
       "<tf.Tensor: shape=(2, 1), dtype=float64, numpy=\n",
       "array([[5.25594901],\n",
       "       [6.60492241]])>\n",
       "\n",
       "Args:\n",
       "  x: A `Tensor` or `SparseTensor` of type `float16`, `float32`, `float64`,\n",
       "    `int32`, `int64`, `complex64` or `complex128`.\n",
       "  name: A name for the operation (optional).\n",
       "\n",
       "Returns:\n",
       "  A `Tensor` or `SparseTensor` of the same size, type and sparsity as `x`,\n",
       "    with absolute values. Note, for `complex64` or `complex128` input, the\n",
       "    returned `Tensor` will be of type `float32` or `float64`, respectively.\n",
       "\n",
       "  If `x` is a `SparseTensor`, returns\n",
       "  `SparseTensor(x.indices, tf.math.abs(x.values, ...), x.dense_shape)`\n",
       "\u001b[1;31mFile:\u001b[0m      c:\\users\\murat\\anaconda3\\lib\\site-packages\\tensorflow\\python\\ops\\math_ops.py\n",
       "\u001b[1;31mType:\u001b[0m      function\n"
      ]
     },
     "metadata": {},
     "output_type": "display_data"
    }
   ],
   "source": [
    "?tf.abs"
   ]
  },
  {
   "cell_type": "code",
   "execution_count": 27,
   "id": "4a146226-e51d-46b4-b43b-c8b965f633a7",
   "metadata": {},
   "outputs": [
    {
     "data": {
      "text/plain": [
       "\u001b[1;31mSignature:\u001b[0m \u001b[0mtf\u001b[0m\u001b[1;33m.\u001b[0m\u001b[0mrange\u001b[0m\u001b[1;33m(\u001b[0m\u001b[0mstart\u001b[0m\u001b[1;33m,\u001b[0m \u001b[0mlimit\u001b[0m\u001b[1;33m=\u001b[0m\u001b[1;32mNone\u001b[0m\u001b[1;33m,\u001b[0m \u001b[0mdelta\u001b[0m\u001b[1;33m=\u001b[0m\u001b[1;36m1\u001b[0m\u001b[1;33m,\u001b[0m \u001b[0mdtype\u001b[0m\u001b[1;33m=\u001b[0m\u001b[1;32mNone\u001b[0m\u001b[1;33m,\u001b[0m \u001b[0mname\u001b[0m\u001b[1;33m=\u001b[0m\u001b[1;34m'range'\u001b[0m\u001b[1;33m)\u001b[0m\u001b[1;33m\u001b[0m\u001b[1;33m\u001b[0m\u001b[0m\n",
       "\u001b[1;31mDocstring:\u001b[0m\n",
       "Creates a sequence of numbers.\n",
       "\n",
       "Creates a sequence of numbers that begins at `start` and extends by\n",
       "increments of `delta` up to but not including `limit`.\n",
       "\n",
       "The dtype of the resulting tensor is inferred from the inputs unless\n",
       "it is provided explicitly.\n",
       "\n",
       "Like the Python builtin `range`, `start` defaults to 0, so that\n",
       "`range(n) = range(0, n)`.\n",
       "\n",
       "For example:\n",
       "\n",
       ">>> start = 3\n",
       ">>> limit = 18\n",
       ">>> delta = 3\n",
       ">>> tf.range(start, limit, delta)\n",
       "<tf.Tensor: shape=(5,), dtype=int32,\n",
       "numpy=array([ 3,  6,  9, 12, 15], dtype=int32)>\n",
       "\n",
       ">>> start = 3\n",
       ">>> limit = 1\n",
       ">>> delta = -0.5\n",
       ">>> tf.range(start, limit, delta)\n",
       "<tf.Tensor: shape=(4,), dtype=float32,\n",
       "numpy=array([3. , 2.5, 2. , 1.5], dtype=float32)>\n",
       "\n",
       ">>> limit = 5\n",
       ">>> tf.range(limit)\n",
       "<tf.Tensor: shape=(5,), dtype=int32,\n",
       "numpy=array([0, 1, 2, 3, 4], dtype=int32)>\n",
       "\n",
       "Args:\n",
       "  start: A 0-D `Tensor` (scalar). Acts as first entry in the range if `limit`\n",
       "    is not None; otherwise, acts as range limit and first entry defaults to 0.\n",
       "  limit: A 0-D `Tensor` (scalar). Upper limit of sequence, exclusive. If None,\n",
       "    defaults to the value of `start` while the first entry of the range\n",
       "    defaults to 0.\n",
       "  delta: A 0-D `Tensor` (scalar). Number that increments `start`. Defaults to\n",
       "    1.\n",
       "  dtype: The type of the elements of the resulting tensor.\n",
       "  name: A name for the operation. Defaults to \"range\".\n",
       "\n",
       "Returns:\n",
       "  An 1-D `Tensor` of type `dtype`.\n",
       "\n",
       "@compatibility(numpy)\n",
       "Equivalent to np.arange\n",
       "@end_compatibility\n",
       "\u001b[1;31mFile:\u001b[0m      c:\\users\\murat\\anaconda3\\lib\\site-packages\\tensorflow\\python\\ops\\math_ops.py\n",
       "\u001b[1;31mType:\u001b[0m      function\n"
      ]
     },
     "metadata": {},
     "output_type": "display_data"
    }
   ],
   "source": [
    "?tf.range"
   ]
  },
  {
   "cell_type": "code",
   "execution_count": 21,
   "id": "7db49c5a-2f10-4af4-9108-3d5a97fc7e1f",
   "metadata": {},
   "outputs": [
    {
     "data": {
      "text/plain": [
       "\u001b[1;31mSignature:\u001b[0m\n",
       "\u001b[0mtf\u001b[0m\u001b[1;33m.\u001b[0m\u001b[0mrandom\u001b[0m\u001b[1;33m.\u001b[0m\u001b[0muniform\u001b[0m\u001b[1;33m(\u001b[0m\u001b[1;33m\n",
       "\u001b[0m    \u001b[0mshape\u001b[0m\u001b[1;33m,\u001b[0m\u001b[1;33m\n",
       "\u001b[0m    \u001b[0mminval\u001b[0m\u001b[1;33m=\u001b[0m\u001b[1;36m0\u001b[0m\u001b[1;33m,\u001b[0m\u001b[1;33m\n",
       "\u001b[0m    \u001b[0mmaxval\u001b[0m\u001b[1;33m=\u001b[0m\u001b[1;32mNone\u001b[0m\u001b[1;33m,\u001b[0m\u001b[1;33m\n",
       "\u001b[0m    \u001b[0mdtype\u001b[0m\u001b[1;33m=\u001b[0m\u001b[0mtf\u001b[0m\u001b[1;33m.\u001b[0m\u001b[0mfloat32\u001b[0m\u001b[1;33m,\u001b[0m\u001b[1;33m\n",
       "\u001b[0m    \u001b[0mseed\u001b[0m\u001b[1;33m=\u001b[0m\u001b[1;32mNone\u001b[0m\u001b[1;33m,\u001b[0m\u001b[1;33m\n",
       "\u001b[0m    \u001b[0mname\u001b[0m\u001b[1;33m=\u001b[0m\u001b[1;32mNone\u001b[0m\u001b[1;33m,\u001b[0m\u001b[1;33m\n",
       "\u001b[0m\u001b[1;33m)\u001b[0m\u001b[1;33m\u001b[0m\u001b[1;33m\u001b[0m\u001b[0m\n",
       "\u001b[1;31mDocstring:\u001b[0m\n",
       "Outputs random values from a uniform distribution.\n",
       "\n",
       "The generated values follow a uniform distribution in the range\n",
       "`[minval, maxval)`. The lower bound `minval` is included in the range, while\n",
       "the upper bound `maxval` is excluded.\n",
       "\n",
       "For floats, the default range is `[0, 1)`.  For ints, at least `maxval` must\n",
       "be specified explicitly.\n",
       "\n",
       "In the integer case, the random integers are slightly biased unless\n",
       "`maxval - minval` is an exact power of two.  The bias is small for values of\n",
       "`maxval - minval` significantly smaller than the range of the output (either\n",
       "`2**32` or `2**64`).\n",
       "\n",
       "Examples:\n",
       "\n",
       ">>> tf.random.uniform(shape=[2])\n",
       "<tf.Tensor: shape=(2,), dtype=float32, numpy=array([..., ...], dtype=float32)>\n",
       ">>> tf.random.uniform(shape=[], minval=-1., maxval=0.)\n",
       "<tf.Tensor: shape=(), dtype=float32, numpy=-...>\n",
       ">>> tf.random.uniform(shape=[], minval=5, maxval=10, dtype=tf.int64)\n",
       "<tf.Tensor: shape=(), dtype=int64, numpy=...>\n",
       "\n",
       "The `seed` argument produces a deterministic sequence of tensors across\n",
       "multiple calls. To repeat that sequence, use `tf.random.set_seed`:\n",
       "\n",
       ">>> tf.random.set_seed(5)\n",
       ">>> tf.random.uniform(shape=[], maxval=3, dtype=tf.int32, seed=10)\n",
       "<tf.Tensor: shape=(), dtype=int32, numpy=2>\n",
       ">>> tf.random.uniform(shape=[], maxval=3, dtype=tf.int32, seed=10)\n",
       "<tf.Tensor: shape=(), dtype=int32, numpy=0>\n",
       ">>> tf.random.set_seed(5)\n",
       ">>> tf.random.uniform(shape=[], maxval=3, dtype=tf.int32, seed=10)\n",
       "<tf.Tensor: shape=(), dtype=int32, numpy=2>\n",
       ">>> tf.random.uniform(shape=[], maxval=3, dtype=tf.int32, seed=10)\n",
       "<tf.Tensor: shape=(), dtype=int32, numpy=0>\n",
       "\n",
       "Without `tf.random.set_seed` but with a `seed` argument is specified, small\n",
       "changes to function graphs or previously executed operations will change the\n",
       "returned value. See `tf.random.set_seed` for details.\n",
       "\n",
       "Args:\n",
       "  shape: A 1-D integer Tensor or Python array. The shape of the output tensor.\n",
       "  minval: A Tensor or Python value of type `dtype`, broadcastable with\n",
       "    `shape` (for integer types, broadcasting is not supported, so it needs to\n",
       "    be a scalar). The lower bound on the range of random values to generate\n",
       "    (inclusive).  Defaults to 0.\n",
       "  maxval: A Tensor or Python value of type `dtype`, broadcastable with\n",
       "    `shape` (for integer types, broadcasting is not supported, so it needs to\n",
       "    be a scalar). The upper bound on the range of random values to generate\n",
       "    (exclusive). Defaults to 1 if `dtype` is floating point.\n",
       "  dtype: The type of the output: `float16`, `bfloat16`, `float32`, `float64`,\n",
       "    `int32`, or `int64`. Defaults to `float32`.\n",
       "  seed: A Python integer. Used in combination with `tf.random.set_seed` to\n",
       "    create a reproducible sequence of tensors across multiple calls.\n",
       "  name: A name for the operation (optional).\n",
       "\n",
       "Returns:\n",
       "  A tensor of the specified shape filled with random uniform values.\n",
       "\n",
       "Raises:\n",
       "  ValueError: If `dtype` is integral and `maxval` is not specified.\n",
       "\u001b[1;31mFile:\u001b[0m      c:\\users\\murat\\anaconda3\\lib\\site-packages\\tensorflow\\python\\ops\\random_ops.py\n",
       "\u001b[1;31mType:\u001b[0m      function\n"
      ]
     },
     "metadata": {},
     "output_type": "display_data"
    }
   ],
   "source": [
    "?tf.random.uniform"
   ]
  }
 ],
 "metadata": {
  "kernelspec": {
   "display_name": "Python 3 (ipykernel)",
   "language": "python",
   "name": "python3"
  },
  "language_info": {
   "codemirror_mode": {
    "name": "ipython",
    "version": 3
   },
   "file_extension": ".py",
   "mimetype": "text/x-python",
   "name": "python",
   "nbconvert_exporter": "python",
   "pygments_lexer": "ipython3",
   "version": "3.9.12"
  }
 },
 "nbformat": 4,
 "nbformat_minor": 5
}
